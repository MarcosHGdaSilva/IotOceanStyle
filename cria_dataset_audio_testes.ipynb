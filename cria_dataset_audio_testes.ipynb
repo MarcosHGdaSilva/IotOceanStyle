{
 "cells": [
  {
   "cell_type": "code",
   "execution_count": null,
   "metadata": {},
   "outputs": [],
   "source": [
    "import librosa\n",
    "import pandas as pd\n",
    "import os\n"
   ]
  },
  {
   "cell_type": "code",
   "execution_count": null,
   "metadata": {},
   "outputs": [],
   "source": [
    "# Caminhos para as pastas com áudios para teste\n",
    "folder_a = r'C:\\Users\\Marcos\\Desktop\\testes-de-modelo-para-treinamento-ruidos-\\datasets\\audio_noise'\n",
    "folder_b = r'C:\\Users\\Marcos\\Desktop\\testes-de-modelo-para-treinamento-ruidos-\\datasets\\New folder\\Cargo'\n",
    "# folder_c = r'C:\\Users\\Marcos\\Desktop\\testes-de-modelo-para-treinamento-ruidos-\\datasets\\New folder\\Passengership'\n",
    "# folder_d = r'C:\\Users\\Marcos\\Desktop\\testes-de-modelo-para-treinamento-ruidos-\\datasets\\New folder\\Tanker'\n",
    "# folder_e = r'C:\\Users\\Marcos\\Desktop\\testes-de-modelo-para-treinamento-ruidos-\\datasets\\New folder\\Tug'\n",
    "\n",
    "\n",
    "\n",
    "# Função para extrair features de um arquivo de áudio\n",
    "def extrai_features(file_path):\n",
    "    y, sr = librosa.load(file_path, sr=None)\n",
    "    features = {\n",
    "        'chroma_stft': librosa.feature.chroma_stft(y=y, sr=sr).mean(),\n",
    "        'chroma_cqt': librosa.feature.chroma_cqt(y=y, sr=sr).mean(),\n",
    "        'chroma_cens': librosa.feature.chroma_cens(y=y, sr=sr).mean(),\n",
    "        'rmse': librosa.feature.rms(y=y).mean(),\n",
    "        'spectral_centroid': librosa.feature.spectral_centroid(y=y, sr=sr).mean(),\n",
    "        'spectral_bandwidth': librosa.feature.spectral_bandwidth(y=y, sr=sr).mean(),\n",
    "        'spectral_contrast': librosa.feature.spectral_contrast(y=y, sr=sr).mean(),\n",
    "        'spectral_flatness': librosa.feature.spectral_flatness(y=y).mean(),\n",
    "        'spectral_rolloff': librosa.feature.spectral_rolloff(y=y, sr=sr).mean(),\n",
    "        'zero_crossing_rate': librosa.feature.zero_crossing_rate(y).mean(),\n",
    "        'mfcc1': librosa.feature.mfcc(y=y, sr=sr)[0].mean(),\n",
    "        'mfcc2': librosa.feature.mfcc(y=y, sr=sr)[1].mean(),\n",
    "        'mfcc3': librosa.feature.mfcc(y=y, sr=sr)[2].mean(),\n",
    "        # 'mfcc4': librosa.feature.mfcc(y=y, sr=sr)[3].mean(),\n",
    "        # 'mfcc5': librosa.feature.mfcc(y=y, sr=sr)[4].mean(),\n",
    "        # 'mfcc6': librosa.feature.mfcc(y=y, sr=sr)[5].mean(),\n",
    "        # 'mfcc7': librosa.feature.mfcc(y=y, sr=sr)[6].mean(),\n",
    "        # 'mfcc8': librosa.feature.mfcc(y=y, sr=sr)[7].mean(),\n",
    "        # 'mfcc9': librosa.feature.mfcc(y=y, sr=sr)[8].mean(),\n",
    "        # 'mfcc10': librosa.feature.mfcc(y=y, sr=sr)[9].mean(),\n",
    "        # 'mfcc11': librosa.feature.mfcc(y=y, sr=sr)[10].mean(),\n",
    "        # 'mfcc12': librosa.feature.mfcc(y=y, sr=sr)[11].mean(),\n",
    "        # 'mfcc13': librosa.feature.mfcc(y=y, sr=sr)[12].mean(),\n",
    "        #'tempo': librosa.beat.tempo(y=y, sr=sr)[0]\n",
    "    }\n",
    "    return features\n",
    "\n",
    "def organiza_por_pasta(folder_path):\n",
    "    data = []\n",
    "    for file_name in os.listdir(folder_path):\n",
    "        file_path = os.path.join(folder_path, file_name)\n",
    "        if file_path.endswith('.wav'):\n",
    "            print(file_path)\n",
    "            features = extrai_features(file_path)\n",
    "            data.append(features)\n",
    "    return data\n",
    "\n",
    "# Processar as duas pastas\n",
    "data_a = organiza_por_pasta(folder_a)\n",
    "data_b = organiza_por_pasta(folder_b)\n",
    "# data_c = organiza_por_pasta(folder_c)\n",
    "# data_d = organiza_por_pasta(folder_d)\n",
    "# data_e = organiza_por_pasta(folder_e)\n",
    "\n",
    "# Combinar os dados e criar um DataFrame\n",
    "data = data_a + data_b #+ data_c + data_d + data_e\n",
    "df = pd.DataFrame(data)\n",
    "\n",
    "df.to_csv(\"csv\\features_audios_testes.csv\", index=False)"
   ]
  }
 ],
 "metadata": {
  "kernelspec": {
   "display_name": ".venv",
   "language": "python",
   "name": "python3"
  },
  "language_info": {
   "codemirror_mode": {
    "name": "ipython",
    "version": 3
   },
   "file_extension": ".py",
   "mimetype": "text/x-python",
   "name": "python",
   "nbconvert_exporter": "python",
   "pygments_lexer": "ipython3",
   "version": "3.11.5"
  }
 },
 "nbformat": 4,
 "nbformat_minor": 2
}
