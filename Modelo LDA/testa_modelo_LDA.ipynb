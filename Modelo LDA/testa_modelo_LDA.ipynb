{
 "cells": [
  {
   "cell_type": "code",
   "execution_count": 2,
   "metadata": {},
   "outputs": [],
   "source": [
    "import pandas as pd\n",
    "import joblib"
   ]
  },
  {
   "cell_type": "code",
   "execution_count": 3,
   "metadata": {},
   "outputs": [],
   "source": [
    "data_teste = pd.read_csv(\"../csv/csv\features_audios_testes.csv\")\n",
    "tst_model = joblib.load('Modelo_LDA.pkl')\n"
   ]
  },
  {
   "cell_type": "code",
   "execution_count": null,
   "metadata": {},
   "outputs": [],
   "source": [
    "y_pred = tst_model.predict(data_teste)\n",
    "y_pred.to_csv(\"csv/testados_audios_classificados.csv\", index=False)"
   ]
  },
  {
   "cell_type": "code",
   "execution_count": null,
   "metadata": {},
   "outputs": [],
   "source": [
    "import pandas as pd\n",
    "from sklearn.preprocessing import LabelEncoder\n",
    "import joblib\n",
    "\n",
    "# Caminho para os arquivos baixados\n",
    "training_data_path = 'csv/features_audios_classificados.csv'\n",
    "testing_data_path = '../csv/csv\features_audios_testes.csv'\n",
    "model_path = 'Modelo_LDA.pkl'\n",
    "\n",
    "# Carregar os dados de treinamento e teste\n",
    "df_train = pd.read_csv(training_data_path)\n",
    "df_test = pd.read_csv(testing_data_path)\n",
    "\n",
    "# Verificar os rótulos únicos no conjunto de dados de treinamento\n",
    "unique_labels_train = df_train['label'].unique()\n",
    "print(f\"Rótulos únicos no treinamento: {unique_labels_train}\")\n",
    "\n",
    "# Carregar o modelo salvo\n",
    "model = joblib.load(model_path)\n",
    "\n",
    "# Codificar os rótulos do conjunto de treinamento\n",
    "label_encoder = LabelEncoder()\n",
    "y_train_encoded = label_encoder.fit_transform(df_train['label'])\n",
    "\n",
    "# Verificar as classes do LabelEncoder\n",
    "classes_encoder = label_encoder.classes_\n",
    "print(f\"Classes do LabelEncoder: {classes_encoder}\")\n",
    "\n",
    "# Prever os dados de teste\n",
    "X_test = df_test  # Assumindo que o arquivo de teste não tem coluna de rótulo\n",
    "y_pred = model.predict(X_test)\n",
    "\n",
    "# Adicionar as predições ao DataFrame de teste\n",
    "df_test['predicted_label'] = label_encoder.inverse_transform(y_pred)\n",
    "\n",
    "# Exibir resultados\n",
    "print(df_test.head())\n",
    "\n",
    "# Salvar os resultados em um novo arquivo CSV\n",
    "df_test.to_csv(\"testados_audios_classificados.csv\", index=False)\n"
   ]
  }
 ],
 "metadata": {
  "kernelspec": {
   "display_name": ".venv",
   "language": "python",
   "name": "python3"
  },
  "language_info": {
   "codemirror_mode": {
    "name": "ipython",
    "version": 3
   },
   "file_extension": ".py",
   "mimetype": "text/x-python",
   "name": "python",
   "nbconvert_exporter": "python",
   "pygments_lexer": "ipython3",
   "version": "3.10.13"
  }
 },
 "nbformat": 4,
 "nbformat_minor": 2
}
