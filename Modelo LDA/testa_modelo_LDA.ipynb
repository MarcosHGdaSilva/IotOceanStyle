{
 "cells": [
  {
   "cell_type": "code",
   "execution_count": 3,
   "metadata": {},
   "outputs": [],
   "source": [
    "import pandas as pd\n",
    "import joblib"
   ]
  },
  {
   "cell_type": "code",
   "execution_count": 4,
   "metadata": {},
   "outputs": [],
   "source": [
    "data_teste = pd.read_csv(\"csv\\features_audios_testes.csv\")\n",
    "tst_model = joblib.load('Modelo_LDA.pkl')\n",
    "#y_pred = tst_model.predict(data_teste)\n",
    "#y_pred.to_csv(\"CSV\\\\testados_audios_classificados.csv\", index=False)"
   ]
  },
  {
   "cell_type": "code",
   "execution_count": 10,
   "metadata": {},
   "outputs": [
    {
     "data": {
      "text/plain": [
       "Index(['chroma_stft', 'chroma_cqt', 'chroma_cens', 'rmse', 'spectral_centroid',\n",
       "       'spectral_bandwidth', 'spectral_contrast', 'spectral_flatness',\n",
       "       'spectral_rolloff', 'zero_crossing_rate', 'mfcc1', 'mfcc2', 'mfcc3'],\n",
       "      dtype='object')"
      ]
     },
     "execution_count": 10,
     "metadata": {},
     "output_type": "execute_result"
    }
   ],
   "source": [
    "data_teste.columns"
   ]
  },
  {
   "cell_type": "code",
   "execution_count": 11,
   "metadata": {},
   "outputs": [
    {
     "data": {
      "text/plain": [
       "Index(['chroma_stft', 'chroma_cqt', 'chroma_cens', 'rmse', 'spectral_centroid',\n",
       "       'spectral_bandwidth', 'spectral_contrast', 'spectral_flatness',\n",
       "       'spectral_rolloff', 'zero_crossing_rate', 'mfcc1', 'mfcc2', 'mfcc3',\n",
       "       'label'],\n",
       "      dtype='object')"
      ]
     },
     "execution_count": 11,
     "metadata": {},
     "output_type": "execute_result"
    }
   ],
   "source": [
    "dados = pd.read_csv(\"CSV\\\\features_audios_classificados.csv\")\n",
    "dados.columns"
   ]
  },
  {
   "cell_type": "code",
   "execution_count": 13,
   "metadata": {},
   "outputs": [
    {
     "name": "stdout",
     "output_type": "stream",
     "text": [
      "Rótulos no treinamento: [1 2]\n"
     ]
    }
   ],
   "source": [
    "import pandas as pd\n",
    "from sklearn.preprocessing import LabelEncoder\n",
    "\n",
    "# Carregue os dados de treinamento\n",
    "dadosL = dados[\"label\"]\n",
    "\n",
    "# Encode os rótulos do treinamento\n",
    "encoder = LabelEncoder()\n",
    "encoder.fit(dadosL)\n",
    "print(\"Rótulos no treinamento:\", encoder.classes_)\n"
   ]
  }
 ],
 "metadata": {
  "kernelspec": {
   "display_name": ".venv",
   "language": "python",
   "name": "python3"
  },
  "language_info": {
   "codemirror_mode": {
    "name": "ipython",
    "version": 3
   },
   "file_extension": ".py",
   "mimetype": "text/x-python",
   "name": "python",
   "nbconvert_exporter": "python",
   "pygments_lexer": "ipython3",
   "version": "3.11.5"
  }
 },
 "nbformat": 4,
 "nbformat_minor": 2
}
